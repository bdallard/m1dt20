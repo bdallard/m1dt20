{
 "cells": [
  {
   "cell_type": "markdown",
   "metadata": {},
   "source": [
    "# Le langage Python Quickstart\n",
    "\n",
    "\n",
    "Python est un langage de programmation. Il est l'un des langages de programmation les plus intéressants du moment. Les mesures de l’indice PyPL du mois de mai 2018 se caractérisent par l’arrivée de Python, pour la première fois, à la tête du classement des langages de programmation les plus populaires selon le baromètre. L'indice PyPL évalue la popularité des langues en fonction de la fréquence de recherche dans les didacticiels du langage. \n",
    "<https://www.developpez.com>\n",
    "\n",
    "[source : Stéphane le calme Mai 2018]\n",
    "\n",
    "\n",
    "Facile à apprendre, python est souvent utilisé en exemple lors de l'apprentissage de la programmation. Avec les variables, les boucles et les fonctions, on connaît suffisamment d’éléments pour écrire des programmes. Le plus difficile n’est pas forcément de les comprendre mais plutôt d’arriver à découper un algorithme complexe en utilisant ces briques élémentaires. C’est donc l’objectif de ce notebook. \n"
   ]
  },
  {
   "cell_type": "markdown",
   "metadata": {},
   "source": [
    "### Python c'est quoi ? \n",
    "\n",
    "C'est un langage de programmation inventé par Guido van Rossum. La première version de python est sortie en 1991.\n",
    "Python est **un langage de programmation interprété** , c'est à dire qu'il n'est pas nécessaire de le compiler avant de l'exécuter. \n",
    "\n",
    "Python est **à la fois simple et puissant**, il vous permet d'écrire des scripts très simples mais grâce à ses nombreuses bibliothèques, vous pouvez travailler sur des projets plus ambitieux.\n",
    "\n",
    "### Pourquoi Python \n",
    "\n",
    "Python est un langage facile à apprendre et son code est plus lisible, il est donc plus facile à maintenir. Il est parfois **jusqu'à 5 fois plus concis que le langage Java** par exemple, ce qui augmente la productivité du développeur et réduit mécaniquement le nombre de bugs. L'environnement python est notamment très riche en librairies. Vous trouverez toujours des projets open source qui vous faciliteront la vie notamment sur <https://github.com/>.\n",
    "\n",
    "### Installons Python \n",
    "\n",
    "#### Installer python sur Linux ou MacOS \n",
    "Si vous travaillez dans un environnement Linux ou MacOS , bonne nouvelle Python déjà installé.\n",
    "\n",
    "#### Installer python sur Windows\n",
    "Si vous êtes sur Windows , changez de système d'exploitation...\n",
    "\n",
    "\n",
    "## Quickstart\n",
    "\n",
    "Comme tout langage de programmation, Python a une syntaxe claire : on ne peut pas lui envoyer n'importe quelle information dans n'importe quel ordre. Nous allons voir ici ce que Python mange… et ce qu'il ne mange pas.\n",
    "\n",
    "### Les variables \n",
    "Comme vous le savez, une variable est une donnée de votre programme, stockée dans votre ordinateur. En python **les variables ne sont pas typées\"** on peut donc écrire : "
   ]
  },
  {
   "cell_type": "code",
   "execution_count": 1,
   "metadata": {},
   "outputs": [
    {
     "data": {
      "text/plain": [
       "35"
      ]
     },
     "execution_count": 1,
     "metadata": {},
     "output_type": "execute_result"
    }
   ],
   "source": [
    "age = 25\n",
    "age + 10"
   ]
  },
  {
   "cell_type": "code",
   "execution_count": 3,
   "metadata": {},
   "outputs": [
    {
     "data": {
      "text/plain": [
       "\"J'ai 30 ans et je suis encore jeune!\""
      ]
     },
     "execution_count": 3,
     "metadata": {},
     "output_type": "execute_result"
    }
   ],
   "source": [
    "#ou bien \n",
    "age = \"J'ai 30 ans\"\n",
    "age = age + \" et je suis encore jeune!\"\n",
    "age "
   ]
  },
  {
   "cell_type": "markdown",
   "metadata": {},
   "source": [
    "### Les structures conditionnelles et les boucles \n",
    "\n",
    "Les conditions permettent d'exécuter une ou plusieurs instructions dans un cas, d'autres instructions dans un autre cas. Nous allons passer rapidement en revue les différentes structures en python. "
   ]
  },
  {
   "cell_type": "code",
   "execution_count": 5,
   "metadata": {},
   "outputs": [
    {
     "name": "stdout",
     "output_type": "stream",
     "text": [
      "a = 5 et b = 9\n"
     ]
    }
   ],
   "source": [
    "# IF \n",
    "a = 5\n",
    "b = 8\n",
    "if a > 0:\n",
    "    # On incrémente la valeur de b\n",
    "    b += 1\n",
    "    # On affiche les valeurs des variables\n",
    "    print(\"a =\",a,\"et b =\",b)"
   ]
  },
  {
   "cell_type": "code",
   "execution_count": 7,
   "metadata": {},
   "outputs": [
    {
     "name": "stdout",
     "output_type": "stream",
     "text": [
      "a est positif.\n"
     ]
    }
   ],
   "source": [
    "if a > 0: # Positif\n",
    "    print(\"a est positif.\")\n",
    "elif a < 0: # Négatif\n",
    "    print(\"a est négatif.\")\n",
    "else: # Nul\n",
    "    print(\"a est nul.\")"
   ]
  },
  {
   "cell_type": "code",
   "execution_count": 8,
   "metadata": {},
   "outputs": [
    {
     "name": "stdout",
     "output_type": "stream",
     "text": [
      "1 * 7 = 7\n",
      "2 * 7 = 14\n",
      "3 * 7 = 21\n",
      "4 * 7 = 28\n",
      "5 * 7 = 35\n",
      "6 * 7 = 42\n",
      "7 * 7 = 49\n",
      "8 * 7 = 56\n",
      "9 * 7 = 63\n",
      "10 * 7 = 70\n"
     ]
    }
   ],
   "source": [
    "# WHILE \n",
    "nb = 7 # On garde la variable contenant le nombre dont on veut la table de multiplication\n",
    "i = 0 # C'est notre variable compteur que nous allons incrémenter dans la boucle\n",
    "\n",
    "while i < 10: # Tant que i est strictement inférieure à 10\n",
    "    print(i + 1, \"*\", nb, \"=\", (i + 1) * nb)\n",
    "    i += 1 # On incrémente i de 1 à chaque tour de boucle\n",
    "    "
   ]
  },
  {
   "cell_type": "code",
   "execution_count": 9,
   "metadata": {},
   "outputs": [
    {
     "name": "stdout",
     "output_type": "stream",
     "text": [
      "B\n",
      "o\n",
      "n\n",
      "j\n",
      "o\n",
      "u\n",
      "r\n",
      " \n",
      "l\n",
      "e\n",
      "s\n",
      " \n",
      "Z\n",
      "E\n",
      "R\n",
      "0\n",
      "S\n"
     ]
    }
   ],
   "source": [
    "# FOR \n",
    "chaine = \"Bonjour les ZER0S\"\n",
    "for lettre in chaine:\n",
    "    print(lettre)"
   ]
  },
  {
   "cell_type": "code",
   "execution_count": null,
   "metadata": {},
   "outputs": [],
   "source": [
    "# BREAK \n",
    "while 1: # 1 est toujours vrai -> boucle infinie\n",
    "    lettre = input(\"Tapez 'Q' pour quitter : \")\n",
    "    if lettre == \"Q\":\n",
    "        print(\"Fin de la boucle\")\n",
    "        break"
   ]
  },
  {
   "cell_type": "markdown",
   "metadata": {},
   "source": [
    "### Les fonctions"
   ]
  },
  {
   "cell_type": "code",
   "execution_count": 3,
   "metadata": {},
   "outputs": [
    {
     "name": "stdout",
     "output_type": "stream",
     "text": [
      "1 * 3 = 3\n",
      "2 * 3 = 6\n",
      "3 * 3 = 9\n",
      "4 * 3 = 12\n",
      "5 * 3 = 15\n",
      "6 * 3 = 18\n",
      "7 * 3 = 21\n",
      "8 * 3 = 24\n",
      "9 * 3 = 27\n",
      "10 * 3 = 30\n"
     ]
    }
   ],
   "source": [
    "def table(nb, max=10):\n",
    "    \"\"\"Fonction affichant la table de multiplication par nb\n",
    "    de 1*nb à max*nb\n",
    "    \n",
    "    (max >= 0)\"\"\"\n",
    "    i = 0\n",
    "    while i < max:\n",
    "        print(i + 1, \"*\", nb, \"=\", (i + 1) * nb)\n",
    "        i += 1\n",
    "        \n",
    "table(3,10) "
   ]
  },
  {
   "cell_type": "markdown",
   "metadata": {},
   "source": [
    "### Les objets \n",
    "\n",
    "Comme vous le savez, en informatique, l'objet est un **conteneur symbolique et autonome qui contient des informations et des mécanismes concernant un sujet**, manipulés dans un programme.\n",
    "\n",
    "#### Les chaine de caractères "
   ]
  },
  {
   "cell_type": "code",
   "execution_count": 2,
   "metadata": {},
   "outputs": [
    {
     "data": {
      "text/plain": [
       "5"
      ]
     },
     "execution_count": 2,
     "metadata": {},
     "output_type": "execute_result"
    }
   ],
   "source": [
    "chaine = \"Salut\"\n",
    "len(chaine)"
   ]
  },
  {
   "cell_type": "code",
   "execution_count": 4,
   "metadata": {},
   "outputs": [
    {
     "name": "stdout",
     "output_type": "stream",
     "text": [
      "bac\n"
     ]
    }
   ],
   "source": [
    "mot = \"lac\"\n",
    "mot = \"b\" + mot[1:]\n",
    "print(mot)"
   ]
  },
  {
   "cell_type": "code",
   "execution_count": 6,
   "metadata": {},
   "outputs": [
    {
     "name": "stdout",
     "output_type": "stream",
     "text": [
      "[1, 2, 3, 4, 5]\n"
     ]
    },
    {
     "data": {
      "text/plain": [
       "1"
      ]
     },
     "execution_count": 6,
     "metadata": {},
     "output_type": "execute_result"
    }
   ],
   "source": [
    "# Les listes \n",
    "ma_liste = [] #liste vide\n",
    "ma_liste = [1, 2, 3, 4, 5] # Une liste avec cinq objets\n",
    "print(ma_liste)\n",
    "ma_liste[0] # On accède au premier élément de la liste"
   ]
  },
  {
   "cell_type": "code",
   "execution_count": 8,
   "metadata": {},
   "outputs": [
    {
     "data": {
      "text/plain": [
       "[1, 2, 'c', 'c', 3, 4, 5]"
      ]
     },
     "execution_count": 8,
     "metadata": {},
     "output_type": "execute_result"
    }
   ],
   "source": [
    "ma_liste.insert(2, 'c') # On insère 'c' à l'indice 2\n",
    "ma_liste"
   ]
  },
  {
   "cell_type": "code",
   "execution_count": 9,
   "metadata": {},
   "outputs": [
    {
     "name": "stdout",
     "output_type": "stream",
     "text": [
      "a\n",
      "b\n",
      "c\n",
      "d\n",
      "e\n",
      "f\n",
      "g\n",
      "h\n"
     ]
    }
   ],
   "source": [
    "#parcours de liste \n",
    "ma_liste = ['a', 'b', 'c', 'd', 'e', 'f', 'g', 'h']\n",
    "i = 0 # Notre indice pour la boucle while\n",
    "while i < len(ma_liste):\n",
    "    print(ma_liste[i])\n",
    "    i += 1 # On incrémente i, ne pas oublier !"
   ]
  },
  {
   "cell_type": "code",
   "execution_count": 10,
   "metadata": {},
   "outputs": [
    {
     "name": "stdout",
     "output_type": "stream",
     "text": [
      "(0, 'a')\n",
      "(1, 'b')\n",
      "(2, 'c')\n",
      "(3, 'd')\n",
      "(4, 'e')\n",
      "(5, 'f')\n",
      "(6, 'g')\n",
      "(7, 'h')\n"
     ]
    }
   ],
   "source": [
    "#enumerate prend en paramètre une liste et renvoie un objet qui peut être associé à une liste contenant deux valeurs par élément : l'indice et l'élément de la liste parcouru.\n",
    "for elt in enumerate(ma_liste):\n",
    "    print(elt)"
   ]
  },
  {
   "cell_type": "code",
   "execution_count": 13,
   "metadata": {},
   "outputs": [
    {
     "data": {
      "text/plain": [
       "(1, 2, 5)"
      ]
     },
     "execution_count": 13,
     "metadata": {},
     "output_type": "execute_result"
    }
   ],
   "source": [
    "#les tuples \n",
    "tuple_vide = ()\n",
    "tuple_non_vide = (1,) # est équivalent à ci dessous\n",
    "tuple_non_vide = 1,\n",
    "tuple_avec_plusieurs_valeurs = (1, 2, 5)\n",
    "tuple_avec_plusieurs_valeurs"
   ]
  },
  {
   "cell_type": "markdown",
   "metadata": {},
   "source": [
    "Il est assez rare que l'on travaille directement sur des tuples. C'est, après tout, un type que l'on ne peut pas modifier. On ne peut supprimer d'éléments d'un tuple, ni en ajouter. Cela vous paraît peut-être encore assez abstrait mais il peut être utile de travailler sur des données sans pouvoir les modifier."
   ]
  },
  {
   "cell_type": "code",
   "execution_count": 14,
   "metadata": {},
   "outputs": [
    {
     "data": {
      "text/plain": [
       "[0, 1, 4, 9, 16, 25]"
      ]
     },
     "execution_count": 14,
     "metadata": {},
     "output_type": "execute_result"
    }
   ],
   "source": [
    "liste_origine = [0, 1, 2, 3, 4, 5]\n",
    "[nb * nb for nb in liste_origine]\n"
   ]
  },
  {
   "cell_type": "markdown",
   "metadata": {},
   "source": [
    "#### Les dictionnaires  \n",
    "\n",
    "Les dictionnaires sont des objets pouvant en contenir d'autres, à l'instar des listes. Cependant, au lieu d'héberger des informations dans un ordre précis, ils associent chaque objet contenu à une clé (la plupart du temps, une chaîne de caractères). "
   ]
  },
  {
   "cell_type": "code",
   "execution_count": 15,
   "metadata": {},
   "outputs": [
    {
     "data": {
      "text/plain": [
       "{'nom': 'engel', 'prenom': 'olivier'}"
      ]
     },
     "execution_count": 15,
     "metadata": {},
     "output_type": "execute_result"
    }
   ],
   "source": [
    "#création du dictionnaire \n",
    "a = {}\n",
    "a[\"nom\"] = \"engel\"\n",
    "a[\"prenom\"] = \"olivier\"\n",
    "a"
   ]
  },
  {
   "cell_type": "code",
   "execution_count": 17,
   "metadata": {},
   "outputs": [
    {
     "data": {
      "text/plain": [
       "'engel'"
      ]
     },
     "execution_count": 17,
     "metadata": {},
     "output_type": "execute_result"
    }
   ],
   "source": [
    "#récupération d'une valeur \n",
    "a.get('nom')"
   ]
  },
  {
   "cell_type": "code",
   "execution_count": 19,
   "metadata": {},
   "outputs": [
    {
     "data": {
      "text/plain": [
       "{'pantalon': 6, 'tee shirt': 7}"
      ]
     },
     "execution_count": 19,
     "metadata": {},
     "output_type": "execute_result"
    }
   ],
   "source": [
    "#supprimer des valeurs \n",
    "placard = {\"chemise\":3, \"pantalon\":6, \"tee shirt\":7}\n",
    "del placard[\"chemise\"]\n",
    "placard"
   ]
  },
  {
   "cell_type": "markdown",
   "metadata": {},
   "source": [
    "**En résumé**\n",
    "\n",
    "- Pour créer un dictionnaire, on utilise la syntaxedictionnaire = {cle1:valeur1, cle2:valeur2, cleN:valeurN}.\n",
    "- On peut ajouter ou remplacer un élément dans un dictionnaire :dictionnaire[cle] = valeur.\n",
    "- On peut supprimer une clé (et sa valeur correspondante) d'un dictionnaire en utilisant, au choix, le mot-clédelou la méthodepop.\n",
    "- On peut parcourir un dictionnaire grâce aux méthodeskeys(parcourt les clés),values(parcourt les valeurs) ouitems(parcourt les couples clé-valeur)."
   ]
  },
  {
   "cell_type": "markdown",
   "metadata": {},
   "source": [
    "### Les classes \n",
    "\n",
    "Une classe regroupe des fonctions et des attributs qui définissent un objet. On appelle par ailleurs les fonctions d'une classe des \"méthodes\""
   ]
  },
  {
   "cell_type": "code",
   "execution_count": 21,
   "metadata": {},
   "outputs": [],
   "source": [
    "class Voiture:\n",
    "\n",
    "\tdef __init__(self):\n",
    "\t\tself.nom = \"Ferrari\"\n",
    "\n",
    "\tdef donne_moi_le_modele(self):\n",
    "\t\treturn \"250\""
   ]
  },
  {
   "cell_type": "code",
   "execution_count": 24,
   "metadata": {},
   "outputs": [
    {
     "data": {
      "text/plain": [
       "'250'"
      ]
     },
     "execution_count": 24,
     "metadata": {},
     "output_type": "execute_result"
    }
   ],
   "source": [
    "#déclaration de l'objet \n",
    "ma_voiture=Voiture()\n",
    "#utilisation de la méthode \n",
    "ma_voiture.donne_moi_le_modele()"
   ]
  },
  {
   "cell_type": "markdown",
   "metadata": {},
   "source": [
    "#### Les propriétés \n",
    "\n",
    "Quelque soit le langage, pour la programmation orientée objet il est de préférable de passer par des propriétés pour changer les valeurs des attributs. Alors bien que cela ne soit pas obligatoire, il existe une convention de passer par des getter (ou accesseur en francais) et des setter ( mutateurs ) pour changer la valeur d'un attribut. "
   ]
  },
  {
   "cell_type": "code",
   "execution_count": 26,
   "metadata": {},
   "outputs": [],
   "source": [
    "class Voiture(object):\n",
    "\n",
    "    def __init__(self):\n",
    "        self._roues=4\n",
    "\n",
    "    def _get_roues(self):\n",
    "        print(\"Récupération du nombre de roues\")\n",
    "        return self._roues\n",
    "\n",
    "    def _set_roues(self, v):\n",
    "        print(\"Changement du nombre de roues\")\n",
    "        self._roues  =  v\n",
    "\n",
    "    roues=property(_get_roues, _set_roues)"
   ]
  },
  {
   "cell_type": "code",
   "execution_count": 27,
   "metadata": {},
   "outputs": [
    {
     "name": "stdout",
     "output_type": "stream",
     "text": [
      "Changement du nombre de roues\n",
      "Récupération du nombre de roues\n"
     ]
    },
    {
     "data": {
      "text/plain": [
       "5"
      ]
     },
     "execution_count": 27,
     "metadata": {},
     "output_type": "execute_result"
    }
   ],
   "source": [
    "ma_voiture=Voiture()\n",
    "ma_voiture.roues=5\n",
    "ma_voiture.roues"
   ]
  },
  {
   "cell_type": "code",
   "execution_count": 30,
   "metadata": {},
   "outputs": [],
   "source": [
    "#Il existe une autre syntaxe en passant par des décorateurs\n",
    "class Voiture(object):\n",
    "\n",
    "    def __init__(self):\n",
    "        self._roues=4\n",
    "\n",
    "    @property\n",
    "    def roues(self):\n",
    "        print(\"Récupération du nombre de roues\")\n",
    "        return self._roues\n",
    "\n",
    "    @roues.setter\n",
    "    def roues(self, v):\n",
    "        print(\"Changement du nombre de roues\")\n",
    "        self._roues  =  v"
   ]
  },
  {
   "cell_type": "markdown",
   "metadata": {},
   "source": [
    "Un décorateur est une fonction qui modifie le comportement d'autres fonctions. Les décorateurs sont utiles lorsque l'on veut ajouter du même code à plusieurs fonctions existantes.\n",
    "\n",
    "\n",
    "### L'héritage \n",
    "\n",
    "Enfin dernier point intéressant: il est possible d'appeler la méthode du parent puis de faire la spécificité de la méthode. On peut d'ailleurs appeler n'importe quelle autre méthode."
   ]
  },
  {
   "cell_type": "code",
   "execution_count": 31,
   "metadata": {},
   "outputs": [
    {
     "name": "stdout",
     "output_type": "stream",
     "text": [
      "La voiture démarre\n",
      "La voiture de sport démarre\n"
     ]
    }
   ],
   "source": [
    "class Voiture:\n",
    "\n",
    "    roues = 4\n",
    "    moteur = 1\n",
    "\n",
    "    def __init__(self):\n",
    "        self.nom = \"A déterminer\"\n",
    "        \n",
    "    def allumer(self):\n",
    "        print(\"La voiture démarre\")\n",
    "\n",
    "class VoitureSport(Voiture):\n",
    "\n",
    "    def __init__(self):\n",
    "        self.nom = \"Ferrari\"\n",
    "        \n",
    "    def allumer(self):\n",
    "        Voiture.allumer(self)\n",
    "        print(\"La voiture de sport démarre\")\n",
    "\n",
    "ma_voiture_sport = VoitureSport()\n",
    "ma_voiture_sport.allumer()"
   ]
  },
  {
   "cell_type": "markdown",
   "metadata": {},
   "source": [
    "### Pip \n",
    "\n",
    "Pip est un système de gestion de paquets utilisé pour installer et gérer des librairies écrites en Python. Il vous permet de télécharger très simplement une bibliothèque avec la commande *pip* \n",
    "\n",
    "```\n",
    "pip install LibrairieExemple\n",
    "```\n",
    "\n",
    "Liste des librairies installées : \n",
    "```\n",
    "pip list \n",
    "```\n",
    "\n",
    "Si vous voulez exportez la liste de vos librairies, vous pouvez la réimporter ailleurs:\n",
    "```\n",
    "pip freeze > lib.txt\n",
    "```"
   ]
  },
  {
   "cell_type": "markdown",
   "metadata": {},
   "source": [
    "### Les fichiers et le module os \n",
    "\n",
    "Ce module est une bibliothèque dédié aux besoins de gestion de fichiers et de dossiers. Pour tous les exemples de ce chapitre il sera donc indispensable d'importer ce module.\n"
   ]
  },
  {
   "cell_type": "code",
   "execution_count": 32,
   "metadata": {},
   "outputs": [],
   "source": [
    "import os"
   ]
  },
  {
   "cell_type": "markdown",
   "metadata": {},
   "source": [
    "#### Le chemin d'un fichier / dossier\n",
    "\n",
    "Chaque fichier ou dossier est associé à une sorte d'adresse qui permet de le trouver facilement sans erreur.\n",
    "Il existe deux type de chemin: le chemin absolu qui part de la racine de votre système de fichier et le chemin relatif qui part du dossier en cours de lecture. \n",
    "\n",
    "Ainsi si on se trouve dans le dossier /home/olivier , un fichier nommé projets.txt dans un dossier scripts aura comme chemin absolu:\n",
    "\n",
    "```\n",
    "/home/olivier/scripts/projets.txt\n",
    "```\n"
   ]
  },
  {
   "cell_type": "code",
   "execution_count": 34,
   "metadata": {
    "collapsed": true
   },
   "outputs": [
    {
     "name": "stdout",
     "output_type": "stream",
     "text": [
      "Help on module posixpath:\n",
      "\n",
      "NAME\n",
      "    posixpath - Common operations on Posix pathnames.\n",
      "\n",
      "MODULE REFERENCE\n",
      "    https://docs.python.org/3.6/library/posixpath\n",
      "    \n",
      "    The following documentation is automatically generated from the Python\n",
      "    source files.  It may be incomplete, incorrect or include features that\n",
      "    are considered implementation detail and may vary between Python\n",
      "    implementations.  When in doubt, consult the module reference at the\n",
      "    location listed above.\n",
      "\n",
      "DESCRIPTION\n",
      "    Instead of importing this module directly, import os and refer to\n",
      "    this module as os.path.  The \"os.path\" name is an alias for this\n",
      "    module on Posix systems; on other systems (e.g. Mac, Windows),\n",
      "    os.path provides the same operations in a manner specific to that\n",
      "    platform, and is an alias to another module (e.g. macpath, ntpath).\n",
      "    \n",
      "    Some of this can actually be useful on non-Posix systems too, e.g.\n",
      "    for manipulation of the pathname component of URLs.\n",
      "\n",
      "FUNCTIONS\n",
      "    abspath(path)\n",
      "        Return an absolute path.\n",
      "    \n",
      "    basename(p)\n",
      "        Returns the final component of a pathname\n",
      "    \n",
      "    commonpath(paths)\n",
      "        Given a sequence of path names, returns the longest common sub-path.\n",
      "    \n",
      "    commonprefix(m)\n",
      "        Given a list of pathnames, returns the longest common leading component\n",
      "    \n",
      "    dirname(p)\n",
      "        Returns the directory component of a pathname\n",
      "    \n",
      "    exists(path)\n",
      "        Test whether a path exists.  Returns False for broken symbolic links\n",
      "    \n",
      "    expanduser(path)\n",
      "        Expand ~ and ~user constructions.  If user or $HOME is unknown,\n",
      "        do nothing.\n",
      "    \n",
      "    expandvars(path)\n",
      "        Expand shell variables of form $var and ${var}.  Unknown variables\n",
      "        are left unchanged.\n",
      "    \n",
      "    getatime(filename)\n",
      "        Return the last access time of a file, reported by os.stat().\n",
      "    \n",
      "    getctime(filename)\n",
      "        Return the metadata change time of a file, reported by os.stat().\n",
      "    \n",
      "    getmtime(filename)\n",
      "        Return the last modification time of a file, reported by os.stat().\n",
      "    \n",
      "    getsize(filename)\n",
      "        Return the size of a file, reported by os.stat().\n",
      "    \n",
      "    isabs(s)\n",
      "        Test whether a path is absolute\n",
      "    \n",
      "    isdir(s)\n",
      "        Return true if the pathname refers to an existing directory.\n",
      "    \n",
      "    isfile(path)\n",
      "        Test whether a path is a regular file\n",
      "    \n",
      "    islink(path)\n",
      "        Test whether a path is a symbolic link\n",
      "    \n",
      "    ismount(path)\n",
      "        Test whether a path is a mount point\n",
      "    \n",
      "    join(a, *p)\n",
      "        Join two or more pathname components, inserting '/' as needed.\n",
      "        If any component is an absolute path, all previous path components\n",
      "        will be discarded.  An empty last part will result in a path that\n",
      "        ends with a separator.\n",
      "    \n",
      "    lexists(path)\n",
      "        Test whether a path exists.  Returns True for broken symbolic links\n",
      "    \n",
      "    normcase(s)\n",
      "        Normalize case of pathname.  Has no effect under Posix\n",
      "    \n",
      "    normpath(path)\n",
      "        Normalize path, eliminating double slashes, etc.\n",
      "    \n",
      "    realpath(filename)\n",
      "        Return the canonical path of the specified filename, eliminating any\n",
      "        symbolic links encountered in the path.\n",
      "    \n",
      "    relpath(path, start=None)\n",
      "        Return a relative version of a path\n",
      "    \n",
      "    samefile(f1, f2)\n",
      "        Test whether two pathnames reference the same actual file\n",
      "    \n",
      "    sameopenfile(fp1, fp2)\n",
      "        Test whether two open file objects reference the same file\n",
      "    \n",
      "    samestat(s1, s2)\n",
      "        Test whether two stat buffers reference the same file\n",
      "    \n",
      "    split(p)\n",
      "        Split a pathname.  Returns tuple \"(head, tail)\" where \"tail\" is\n",
      "        everything after the final slash.  Either part may be empty.\n",
      "    \n",
      "    splitdrive(p)\n",
      "        Split a pathname into drive and path. On Posix, drive is always\n",
      "        empty.\n",
      "    \n",
      "    splitext(p)\n",
      "        Split the extension from a pathname.\n",
      "        \n",
      "        Extension is everything from the last dot to the end, ignoring\n",
      "        leading dots.  Returns \"(root, ext)\"; ext may be empty.\n",
      "\n",
      "DATA\n",
      "    __all__ = ['normcase', 'isabs', 'join', 'splitdrive', 'split', 'splite...\n",
      "    altsep = None\n",
      "    curdir = '.'\n",
      "    defpath = ':/bin:/usr/bin'\n",
      "    devnull = '/dev/null'\n",
      "    extsep = '.'\n",
      "    pardir = '..'\n",
      "    pathsep = ':'\n",
      "    sep = '/'\n",
      "    supports_unicode_filenames = True\n",
      "\n",
      "FILE\n",
      "    /Library/Frameworks/Python.framework/Versions/3.6/lib/python3.6/posixpath.py\n",
      "\n",
      "\n"
     ]
    }
   ],
   "source": [
    "#Manipuler les chemins\n",
    "import os.path\n",
    "help(os.path)"
   ]
  },
  {
   "cell_type": "markdown",
   "metadata": {},
   "source": [
    "### Gestion des fichiers XML \n",
    "\n",
    "Le langage XML pour *Extensible Markup Language* (langage de balisage extensible en français) est un langage informatique qui permet l'échange de données entre deux environnements hétérogènes. Un document XML est un arbre composé de noeuds qui peuvent être des éléments ou des attributs.\n",
    "\n",
    "Voici un exemple de document XML, *data.xml* "
   ]
  },
  {
   "cell_type": "markdown",
   "metadata": {},
   "source": [
    "```XML \n",
    "<?xml version=\"1.0\" encoding=\"UTF-8\"?>\n",
    "<users>\n",
    "    <user data-id=\"101\">\n",
    "        <nom>Zorro</nom>\n",
    "        <metier>Danseur</metier>\n",
    "    </user>\n",
    "    <user data-id=\"102\">\n",
    "        <nom>Hulk</nom>\n",
    "        <metier>Footballeur</metier>\n",
    "    </user>\n",
    "    <user data-id=\"103\">\n",
    "        <nom>Zidane</nom>\n",
    "        <metier>Star</metier>\n",
    "    </user>\n",
    "    <user data-id=\"104\">\n",
    "        <nom>Beans</nom>\n",
    "        <metier>Epicier</metier>\n",
    "    </user>\n",
    "    <user data-id=\"105\">\n",
    "        <nom>Batman</nom>\n",
    "        <metier>Veterinaire</metier>\n",
    "    </user>\n",
    "    <user data-id=\"106\">\n",
    "        <nom>Spiderman</nom>\n",
    "        <metier>Veterinaire</metier>\n",
    "    </user>\n",
    "</users>\n"
   ]
  },
  {
   "cell_type": "markdown",
   "metadata": {},
   "source": [
    "On remarque que la balise \"users\" possède d'autres balises \"user\" qui elles même possèdent leurs propres balises. Les données sont hiérarchisées dans un arbre et chaque noeud apporte une information.\n",
    "\n",
    "``` python \n",
    "from lxml import etree\n",
    "\n",
    "tree = etree.parse(\"data.xml\")\n",
    "for user in tree.xpath(\"/users/user/nom\"):\n",
    "    print(user.text)\n",
    "```\n",
    "En sortie : \n",
    "```\n",
    "Zorro\n",
    "Hulk\n",
    "Zidane\n",
    "Beans\n",
    "Batman\n",
    "Spiderman\n",
    "```\n",
    "\n",
    "On peut aussi afficher les attributs des balises:\n",
    "```python\n",
    "tree = etree.parse(\"data.xml\")\n",
    "for user in tree.xpath(\"/users/user\"):\n",
    "    print(user.get(\"data-id\"))\n",
    "```\n",
    "En sortie : \n",
    "```\n",
    "101\n",
    "102\n",
    "103\n",
    "104\n",
    "105\n",
    "106\n",
    "```\n",
    "\n",
    "### Scrapper rapidement avec BeautifulSoup\n",
    "\n",
    "Nous avons vu précédemment comment parser du XML , il est également possible de parser du HTML et l'outil qui fait  le job rapidement c'est la librairy BeautifulSoup\n",
    "\n",
    "**Installer la librairie avec la commande pip** \n",
    "\n",
    "```\n",
    "sudo pip install beautifulsoup4\n",
    "```\n",
    "\n",
    "BeautifulSoup propose par exemple de récupérer toutes les balises <*p*> d'une page HTML\n"
   ]
  },
  {
   "cell_type": "code",
   "execution_count": 37,
   "metadata": {
    "collapsed": true
   },
   "outputs": [
    {
     "name": "stdout",
     "output_type": "stream",
     "text": [
      "<p>Texte à lire 1</p>\n",
      "<p>Texte à lire 2</p>\n"
     ]
    },
    {
     "name": "stderr",
     "output_type": "stream",
     "text": [
      "/Library/Frameworks/Python.framework/Versions/3.6/lib/python3.6/site-packages/bs4/__init__.py:181: UserWarning: No parser was explicitly specified, so I'm using the best available HTML parser for this system (\"lxml\"). This usually isn't a problem, but if you run this code on another system, or in a different virtual environment, it may use a different parser and behave differently.\n",
      "\n",
      "The code that caused this warning is on line 193 of the file /Library/Frameworks/Python.framework/Versions/3.6/lib/python3.6/runpy.py. To get rid of this warning, change code that looks like this:\n",
      "\n",
      " BeautifulSoup(YOUR_MARKUP})\n",
      "\n",
      "to this:\n",
      "\n",
      " BeautifulSoup(YOUR_MARKUP, \"lxml\")\n",
      "\n",
      "  markup_type=markup_type))\n"
     ]
    }
   ],
   "source": [
    "from bs4 import BeautifulSoup\n",
    "\n",
    "html_doc = \"\"\"\n",
    "<html>\n",
    "    <head>\n",
    "    <title>Titre de votre site</title>\n",
    "    </head>\n",
    "    <body>\n",
    "        <p>Texte à lire 1</p>\n",
    "        <p>Texte à lire 2</p>\n",
    "    </body>\n",
    "</html>\n",
    "\"\"\"\n",
    "soup = BeautifulSoup(html_doc)\n",
    "    \n",
    "for p in soup.find_all('p'):\n",
    "    print(p)"
   ]
  },
  {
   "cell_type": "code",
   "execution_count": 38,
   "metadata": {
    "collapsed": true
   },
   "outputs": [
    {
     "name": "stdout",
     "output_type": "stream",
     "text": [
      "['c1', 'c2']\n",
      "['c3']\n"
     ]
    },
    {
     "name": "stderr",
     "output_type": "stream",
     "text": [
      "/Library/Frameworks/Python.framework/Versions/3.6/lib/python3.6/site-packages/bs4/__init__.py:181: UserWarning: No parser was explicitly specified, so I'm using the best available HTML parser for this system (\"lxml\"). This usually isn't a problem, but if you run this code on another system, or in a different virtual environment, it may use a different parser and behave differently.\n",
      "\n",
      "The code that caused this warning is on line 193 of the file /Library/Frameworks/Python.framework/Versions/3.6/lib/python3.6/runpy.py. To get rid of this warning, change code that looks like this:\n",
      "\n",
      " BeautifulSoup(YOUR_MARKUP})\n",
      "\n",
      "to this:\n",
      "\n",
      " BeautifulSoup(YOUR_MARKUP, \"lxml\")\n",
      "\n",
      "  markup_type=markup_type))\n"
     ]
    }
   ],
   "source": [
    "#Il est possible de lire les attributs des éléments avec la méthode get \n",
    "html_doc = \"\"\"\n",
    "<html>\n",
    "    <head>\n",
    "    <title>Titre de votre site</title>\n",
    "    </head>\n",
    "    <body>\n",
    "        <p class=\"c1 c2\">Texte à lire 1</p>\n",
    "        <p class=\"c3\">Texte à lire 2</p>\n",
    "    </body>\n",
    "</html>\n",
    "\"\"\"\n",
    "soup = BeautifulSoup(html_doc)\n",
    "    \n",
    "for p in soup.find_all('p'):\n",
    "    print(p.get(\"class\"))"
   ]
  },
  {
   "cell_type": "markdown",
   "metadata": {},
   "source": [
    "### SQLite rapidement \n",
    "\n",
    "SQLite a été conçu pour être intégré dans le programme même. Pour des projets plus ambitieux / projets web le choix de MySQL serait plus judicieux.\n"
   ]
  },
  {
   "cell_type": "code",
   "execution_count": 39,
   "metadata": {},
   "outputs": [],
   "source": [
    "import sqlite3"
   ]
  },
  {
   "cell_type": "markdown",
   "metadata": {},
   "source": [
    "Créer une base de données avec SQLite avec la commande suivante : \n",
    "```python\n",
    "conn = sqlite3.connect('ma_base.db')\n",
    "```\n",
    "Lorsque le travail est terminé, pensez à fermer la connexion vers la base:\n",
    "\n",
    "```python\n",
    "db.close()\n",
    "```"
   ]
  },
  {
   "cell_type": "markdown",
   "metadata": {},
   "source": [
    "Créer une table avec SQLite : \n",
    "```python \n",
    "cursor = conn.cursor()\n",
    "cursor.execute(\"\"\"\n",
    "CREATE TABLE IF NOT EXISTS users(\n",
    "     id INTEGER PRIMARY KEY AUTOINCREMENT UNIQUE,\n",
    "     name TEXT,\n",
    "     age INTERGER\n",
    ")\n",
    "\"\"\")\n",
    "conn.commit()\n",
    "``` \n",
    "\n",
    "Supprimer une table avec SQLite:\n",
    "\n",
    "```python\n",
    "cursor = conn.cursor()\n",
    "cursor.execute(\"\"\"\n",
    "DROP TABLE users\n",
    "\"\"\")\n",
    "conn.commit()\n",
    "```\n",
    "\n",
    "Vous aussi pouvez passer par un dictionnaire:\n",
    "\n",
    "```python \n",
    "data = {\"name\" : \"olivier\", \"age\" : 30}\n",
    "cursor.execute(\"\"\"\n",
    "INSERT INTO users(name, age) VALUES(:name, :age)\"\"\", data)\n",
    "```"
   ]
  },
  {
   "cell_type": "code",
   "execution_count": null,
   "metadata": {},
   "outputs": [],
   "source": []
  }
 ],
 "metadata": {
  "kernelspec": {
   "display_name": "Python 3",
   "language": "python",
   "name": "python3"
  },
  "language_info": {
   "codemirror_mode": {
    "name": "ipython",
    "version": 3
   },
   "file_extension": ".py",
   "mimetype": "text/x-python",
   "name": "python",
   "nbconvert_exporter": "python",
   "pygments_lexer": "ipython3",
   "version": "3.7.3"
  }
 },
 "nbformat": 4,
 "nbformat_minor": 2
}
